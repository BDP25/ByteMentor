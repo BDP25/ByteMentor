{
 "cells": [
  {
   "cell_type": "code",
   "execution_count": 3,
   "metadata": {},
   "outputs": [
    {
     "data": {
      "text/plain": [
       "{}"
      ]
     },
     "execution_count": 3,
     "metadata": {},
     "output_type": "execute_result"
    }
   ],
   "source": [
    "from data_utils.mongodb import extract_from_mongod\n",
    "\n",
    "documents = extract_from_mongod()\n",
    "languages = {}\n",
    "for doc in documents:\n",
    "    language = doc[\"language\"]\n",
    "    if language not in languages:\n",
    "        languages[language] = 1\n",
    "    else:\n",
    "        languages[language] += 1\n",
    "\n",
    "languages"
   ]
  },
  {
   "cell_type": "code",
   "execution_count": 12,
   "metadata": {},
   "outputs": [
    {
     "name": "stdout",
     "output_type": "stream",
     "text": [
      "Praktikum: 155\n",
      "Analysis: 120\n",
      "Theorie: 97\n",
      "Lectures: 96\n",
      "Explorative_Datenanalyse: 64\n"
     ]
    }
   ],
   "source": [
    "from collections import Counter\n",
    "\n",
    "# Extract documents from MongoDB\n",
    "documents = extract_from_mongod(collection_name=\"translated\")\n",
    "\n",
    "# Flatten all keywords into a list\n",
    "all_keywords = []\n",
    "for doc in documents:\n",
    "    all_keywords.extend(doc.get(\"Key-Words\", []))  # safer with .get()\n",
    "\n",
    "# Count keyword frequencies\n",
    "keyword_counts = Counter(all_keywords)\n",
    "\n",
    "# Get top 5 most common keywords\n",
    "top_5_keywords = keyword_counts.most_common(5)\n",
    "\n",
    "# Display the results\n",
    "for keyword, count in top_5_keywords:\n",
    "    print(f\"{keyword}: {count}\")\n"
   ]
  },
  {
   "cell_type": "code",
   "execution_count": 9,
   "metadata": {},
   "outputs": [
    {
     "name": "stdout",
     "output_type": "stream",
     "text": [
      "19160.94800483676\n"
     ]
    }
   ],
   "source": [
    "documents = extract_from_mongod(collection_name=\"translated\")\n",
    "contents = \"\"\n",
    "for doc in documents:\n",
    "    contents += doc[\"content\"]\n",
    "    \n",
    "print(len(contents)/len(documents))\n"
   ]
  },
  {
   "cell_type": "code",
   "execution_count": null,
   "metadata": {},
   "outputs": [],
   "source": []
  }
 ],
 "metadata": {
  "kernelspec": {
   "display_name": "ZHAW",
   "language": "python",
   "name": "python3"
  },
  "language_info": {
   "codemirror_mode": {
    "name": "ipython",
    "version": 3
   },
   "file_extension": ".py",
   "mimetype": "text/x-python",
   "name": "python",
   "nbconvert_exporter": "python",
   "pygments_lexer": "ipython3",
   "version": "3.12.5"
  }
 },
 "nbformat": 4,
 "nbformat_minor": 2
}
