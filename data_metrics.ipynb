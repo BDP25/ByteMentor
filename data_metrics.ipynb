{
 "cells": [
  {
   "cell_type": "code",
   "execution_count": 1,
   "metadata": {},
   "outputs": [
    {
     "data": {
      "text/plain": [
       "{'de': 579,\n",
       " 'ca': 2,\n",
       " 'en': 226,\n",
       " 'pt': 1,\n",
       " 'id': 1,\n",
       " None: 3,\n",
       " 'ro': 4,\n",
       " 'hr': 1,\n",
       " 'pl': 1,\n",
       " 'nl': 1}"
      ]
     },
     "execution_count": 1,
     "metadata": {},
     "output_type": "execute_result"
    }
   ],
   "source": [
    "from data_utils.mongodb import extract_from_mongod\n",
    "\n",
    "documents = extract_from_mongod()\n",
    "languages = {}\n",
    "for doc in documents:\n",
    "    language = doc['language']\n",
    "    if language not in languages:\n",
    "        languages[language] = 1\n",
    "    else:\n",
    "        languages[language] += 1\n",
    "\n",
    "languages   "
   ]
  },
  {
   "cell_type": "code",
   "execution_count": null,
   "metadata": {},
   "outputs": [],
   "source": []
  }
 ],
 "metadata": {
  "kernelspec": {
   "display_name": "ZHAW",
   "language": "python",
   "name": "python3"
  },
  "language_info": {
   "codemirror_mode": {
    "name": "ipython",
    "version": 3
   },
   "file_extension": ".py",
   "mimetype": "text/x-python",
   "name": "python",
   "nbconvert_exporter": "python",
   "pygments_lexer": "ipython3",
   "version": "3.12.5"
  }
 },
 "nbformat": 4,
 "nbformat_minor": 2
}
